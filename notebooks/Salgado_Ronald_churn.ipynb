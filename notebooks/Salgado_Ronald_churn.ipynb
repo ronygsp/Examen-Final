{
 "cells": [
  {
   "cell_type": "markdown",
   "id": "a86ebb0f",
   "metadata": {},
   "source": [
    "# Análisis de Predicción de Churn para Interconnect (Empresa de Telecomunicaciones)\n",
    "\n",
    "Este notebook contiene el análisis completo de predicción de churn (abandono de clientes) siguiendo la metodología CRISP-DM (Cross-Industry Standard Process for Data Mining)."
   ]
  },
  {
   "cell_type": "markdown",
   "id": "a21001e9",
   "metadata": {},
   "source": [
    "## a) Business Understanding\n",
    "\n",
    "### Formulación del Problema\n",
    "\n",
    "En la empresa **Interconnect**, el equipo de marketing enfrenta un desafío significativo con la pérdida de clientes (churn), lo cual impacta directamente en los ingresos y la rentabilidad. La adquisición de nuevos clientes suele costar de 5 a 25 veces más que retener a los existentes, por lo que identificar clientes con alto riesgo de abandono es crucial para implementar estrategias de retención efectivas.\n",
    "\n",
    "El equipo de marketing desea anticiparse a las cancelaciones de suscripciones para ofrecer códigos promocionales específicamente a clientes que muestren señales de posible abandono, optimizando así el presupuesto de retención.\n",
    "\n",
    "Para este proyecto, contamos con cuatro fuentes de datos interconectadas mediante el identificador único `customerID`:\n",
    "\n",
    "1. **contract.csv** - Detalles del contrato (tipo, duración, método de pago, importe, etc.)\n",
    "2. **personal.csv** - Datos demográficos y segmentación del cliente\n",
    "3. **internet.csv** - Servicios de Internet y características técnicas\n",
    "4. **phone.csv** - Servicios telefónicos y líneas asociadas\n",
    "\n",
    "**Objetivo principal**: Desarrollar un modelo de machine learning que prediga con precisión qué clientes tienen mayor probabilidad de abandonar el servicio, permitiendo al equipo de marketing dirigir eficientemente los códigos promocionales a aquellos clientes en riesgo de abandono."
   ]
  },
  {
   "cell_type": "markdown",
   "id": "8d1e0db6",
   "metadata": {},
   "source": [
    "### Hipótesis\n",
    "\n",
    "Basándonos en el conocimiento del dominio de telecomunicaciones y las fuentes de datos disponibles, planteamos las siguientes hipótesis que guiarán nuestra investigación:\n",
    "\n",
    "1. **H1**: Los clientes con contratos mensuales tienen mayor probabilidad de abandono que aquellos con contratos a largo plazo (verificable mediante `contract.csv`).\n",
    "\n",
    "2. **H2**: El tiempo de permanencia como cliente está inversamente relacionado con la probabilidad de abandono (clientes más nuevos tienen mayor riesgo), información disponible en `contract.csv`.\n",
    "\n",
    "3. **H3**: Los clientes con múltiples líneas telefónicas o servicios adicionales (`phone.csv` y `internet.csv`) tienen menor probabilidad de abandono debido al mayor costo de cambio.\n",
    "\n",
    "4. **H4**: Los clientes con gastos mensuales más altos son más sensibles a la calidad del servicio y tienen mayor probabilidad de abandono si no perciben un valor adecuado (verificable combinando información financiera de `contract.csv`).\n",
    "\n",
    "5. **H5**: El uso de múltiples servicios de Internet, como streaming y seguridad (`internet.csv`), reduce la probabilidad de abandono por el efecto de \"cliente integral\".\n",
    "\n",
    "6. **H6**: Los métodos de pago automáticos (débito bancario) están asociados a menor tasa de abandono debido a la menor fricción en los pagos (información presente en `contract.csv`).\n",
    "\n",
    "7. **H7**: Existen patrones demográficos significativos (`personal.csv`) que pueden indicar mayor propensión al abandono en ciertos segmentos de clientes.\n",
    "\n",
    "Estas hipótesis serán evaluadas durante las fases de análisis exploratorio y modelado, utilizando las cuatro fuentes de datos disponibles."
   ]
  },
  {
   "cell_type": "markdown",
   "id": "6a32f307",
   "metadata": {},
   "source": [
    "### Key Performance Indicators (KPIs)\n",
    "\n",
    "Para medir el éxito de nuestro modelo predictivo y las posteriores estrategias de retención basadas en códigos promocionales, definimos los siguientes KPIs:\n",
    "\n",
    "#### KPIs del modelo:\n",
    "\n",
    "1. **AUC-ROC**: El área bajo la curva ROC deberá ser superior a 0.85 para considerar el modelo adecuado para implementación.\n",
    "\n",
    "2. **Recall (Sensibilidad)**: Deberá ser superior al 80%, priorizando la identificación correcta de clientes que abandonarán (minimizando falsos negativos), para garantizar que no se pierdan oportunidades de retención.\n",
    "\n",
    "3. **Precisión a diferentes umbrales**: Evaluaremos la precisión del modelo en diferentes puntos de corte de probabilidad para optimizar el balance entre recall y precisión según el presupuesto disponible para códigos promocionales.\n",
    "\n",
    "#### KPIs de negocio (post-implementación):\n",
    "\n",
    "1. **Efectividad de los códigos promocionales**: Tasa de redención de códigos promocionales de al menos un 30% entre los clientes identificados como de alto riesgo.\n",
    "\n",
    "2. **Reducción de la tasa de churn**: Disminución de al menos un 20% en la tasa de abandono entre los clientes identificados como de alto riesgo y contactados con promociones.\n",
    "\n",
    "3. **ROI de las campañas de retención**: Por cada dólar invertido en códigos promocionales dirigidos por el modelo, se espera un retorno de al menos 3 dólares en ingresos preservados.\n",
    "\n",
    "4. **Eficiencia presupuestaria**: Reducción del 30% en el gasto promocional por cliente retenido al focalizar esfuerzos en segmentos con mayor riesgo de abandono, comparado con campañas masivas anteriores.\n",
    "\n",
    "Estos KPIs serán monitoreados continuamente para evaluar la efectividad tanto del modelo predictivo como de la estrategia de retención basada en códigos promocionales."
   ]
  },
  {
   "cell_type": "code",
   "execution_count": 1,
   "id": "9ac3c846",
   "metadata": {},
   "outputs": [
    {
     "name": "stderr",
     "output_type": "stream",
     "text": [
      "c:\\Python312\\Lib\\site-packages\\tqdm\\auto.py:21: TqdmWarning: IProgress not found. Please update jupyter and ipywidgets. See https://ipywidgets.readthedocs.io/en/stable/user_install.html\n",
      "  from .autonotebook import tqdm as notebook_tqdm\n"
     ]
    }
   ],
   "source": [
    "# Importación de librerías necesarias\n",
    "import numpy as np\n",
    "import pandas as pd\n",
    "import matplotlib.pyplot as plt\n",
    "import seaborn as sns\n",
    "from sklearn.model_selection import train_test_split, cross_val_score, StratifiedKFold\n",
    "from sklearn.preprocessing import StandardScaler, OneHotEncoder\n",
    "from sklearn.compose import ColumnTransformer\n",
    "from sklearn.pipeline import Pipeline\n",
    "from sklearn.impute import SimpleImputer\n",
    "from sklearn.metrics import roc_auc_score, confusion_matrix, classification_report, roc_curve, precision_recall_curve, accuracy_score\n",
    "from sklearn.linear_model import LogisticRegression\n",
    "from sklearn.ensemble import RandomForestClassifier, GradientBoostingClassifier\n",
    "import xgboost as xgb\n",
    "import shap\n",
    "import warnings\n",
    "from pathlib import Path\n",
    "import joblib\n",
    "\n",
    "# Configuración de visualización\n",
    "plt.style.use('seaborn-v0_8-whitegrid')\n",
    "sns.set_palette('viridis')\n",
    "plt.rcParams['figure.figsize'] = (12, 8)\n",
    "plt.rcParams['axes.labelsize'] = 12\n",
    "plt.rcParams['axes.titlesize'] = 14\n",
    "\n",
    "# Ignorar advertencias para una salida más limpia\n",
    "warnings.filterwarnings('ignore')\n",
    "\n",
    "# Configurar semilla para reproducibilidad\n",
    "RANDOM_SEED = 42\n",
    "np.random.seed(RANDOM_SEED)"
   ]
  },
  {
   "cell_type": "code",
   "execution_count": 2,
   "id": "eabfcf4b",
   "metadata": {},
   "outputs": [
    {
     "name": "stdout",
     "output_type": "stream",
     "text": [
      "Directorio existente: c:\\Users\\Rony\\Desktop\\OneDrive - Universidad San Francisco de Quito\\USFQ\\NovenoSemestre\\DataMining\\Examen Final\\data\n",
      "Directorio existente: c:\\Users\\Rony\\Desktop\\OneDrive - Universidad San Francisco de Quito\\USFQ\\NovenoSemestre\\DataMining\\Examen Final\\models\n",
      "Directorio existente: c:\\Users\\Rony\\Desktop\\OneDrive - Universidad San Francisco de Quito\\USFQ\\NovenoSemestre\\DataMining\\Examen Final\\notebooks\n",
      "\n",
      "Estructura de directorios:\n",
      "\n",
      "- Datos: c:\\Users\\Rony\\Desktop\\OneDrive - Universidad San Francisco de Quito\\USFQ\\NovenoSemestre\\DataMining\\Examen Final\\data\n",
      "- Modelos: c:\\Users\\Rony\\Desktop\\OneDrive - Universidad San Francisco de Quito\\USFQ\\NovenoSemestre\\DataMining\\Examen Final\\models\n",
      "- Notebooks: c:\\Users\\Rony\\Desktop\\OneDrive - Universidad San Francisco de Quito\\USFQ\\NovenoSemestre\\DataMining\\Examen Final\\notebooks\n"
     ]
    }
   ],
   "source": [
    "# Configuración de rutas para estructura del proyecto\n",
    "\n",
    "# Definir rutas para los directorios del proyecto\n",
    "base_dir = Path.cwd().parent\n",
    "\n",
    "# Verificar y crear directorios si no existen\n",
    "data_dir = base_dir / 'data'\n",
    "models_dir = base_dir / 'models'\n",
    "notebooks_dir = base_dir / 'notebooks'\n",
    "\n",
    "for directory in [data_dir, models_dir, notebooks_dir]:\n",
    "    if not directory.exists():\n",
    "        directory.mkdir(parents=True)\n",
    "        print(f\"Directorio creado: {directory}\")\n",
    "    else:\n",
    "        print(f\"Directorio existente: {directory}\")\n",
    "\n",
    "print(f\"\\nEstructura de directorios:\\n\")\n",
    "print(f\"- Datos: {data_dir}\")\n",
    "print(f\"- Modelos: {models_dir}\")\n",
    "print(f\"- Notebooks: {notebooks_dir}\")"
   ]
  }
 ],
 "metadata": {
  "kernelspec": {
   "display_name": "Python 3",
   "language": "python",
   "name": "python3"
  },
  "language_info": {
   "codemirror_mode": {
    "name": "ipython",
    "version": 3
   },
   "file_extension": ".py",
   "mimetype": "text/x-python",
   "name": "python",
   "nbconvert_exporter": "python",
   "pygments_lexer": "ipython3",
   "version": "3.12.2"
  }
 },
 "nbformat": 4,
 "nbformat_minor": 5
}
